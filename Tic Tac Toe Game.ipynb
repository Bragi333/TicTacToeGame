{
 "cells": [
  {
   "cell_type": "code",
   "execution_count": 1,
   "metadata": {},
   "outputs": [],
   "source": [
    "import random"
   ]
  },
  {
   "cell_type": "code",
   "execution_count": 2,
   "metadata": {},
   "outputs": [],
   "source": [
    "welcome_message = 'Welcome to Tic Tac Toe. Player is X, computer is O. This is a new game. Board numbers are as follows:'\n",
    "sample_board = ' 1 | 2 | 3 \\n 4 | 5 | 6 \\n 7 | 8 | 9'\n",
    "b = '   |   |   \\n   |   |   \\n   |   |  '"
   ]
  },
  {
   "cell_type": "code",
   "execution_count": 3,
   "metadata": {},
   "outputs": [],
   "source": [
    "def user_input(user_choice):\n",
    "    global b\n",
    "    if user_choice == '1':\n",
    "        if b[1] == \" \":\n",
    "            b = b[:1] + \"X\" + b[2:len(b)]\n",
    "            return b\n",
    "        else:\n",
    "            print('That spot already has a letter in it. Please choose another [1-9]')\n",
    "    elif user_choice == '2':\n",
    "        if b[5] == \" \":\n",
    "            b = b[:5] + \"X\" + b[6:len(b)]\n",
    "            return b\n",
    "        else:\n",
    "            print('That spot already has a letter in it. Please choose another [1-9]')\n",
    "    elif user_choice == '3':\n",
    "        if b[9] == \" \":\n",
    "            b = b[:9] + \"X\" + b[10:len(b)]\n",
    "            return b\n",
    "        else:\n",
    "            print('That spot already has a letter in it. Please choose another [1-9]')\n",
    "    elif user_choice == '4':\n",
    "        if b[12] == \" \":\n",
    "            b = b[:12] + \"X\" + b[13:len(b)]\n",
    "            return b\n",
    "        else:\n",
    "            print('That spot already has a letter in it. Please choose another [1-9]')\n",
    "    elif user_choice == '5':\n",
    "        if b[16] == \" \":\n",
    "            b = b[:16] + \"X\" + b[17:len(b)]\n",
    "            return b\n",
    "        else:\n",
    "            print('That spot already has a letter in it. Please choose another [1-9]')\n",
    "    elif user_choice == '6':\n",
    "        if b[20] == \" \":\n",
    "            b = b[:20] + \"X\" + b[21:len(b)]\n",
    "            return b\n",
    "        else:\n",
    "            print('That spot already has a letter in it. Please choose another [1-9]')\n",
    "    elif user_choice == '7':\n",
    "        if b[24] == \" \":\n",
    "            b = b[:24] + \"X\" + b[25:len(b)]\n",
    "            return b\n",
    "        else:\n",
    "            print('That spot already has a letter in it. Please choose another [1-9]')\n",
    "    elif user_choice == '8':\n",
    "        if b[28] == \" \":\n",
    "            b = b[:28] + \"X\" + b[29:len(b)]\n",
    "            return b\n",
    "        else:\n",
    "            print('That spot already has a letter in it. Please choose another [1-9]')\n",
    "    elif user_choice == '9':\n",
    "        if b[31] == \" \":\n",
    "            b = b[:31] + \"X\" + b[32:len(b)]\n",
    "            return b\n",
    "        else:\n",
    "            print('That spot already has a letter in it. Please choose another [1-9]')"
   ]
  },
  {
   "cell_type": "code",
   "execution_count": 4,
   "metadata": {},
   "outputs": [],
   "source": [
    "def random_number():\n",
    "    return random.randint(1,9)"
   ]
  },
  {
   "cell_type": "code",
   "execution_count": 5,
   "metadata": {},
   "outputs": [],
   "source": [
    "def cpu_input(random_number):\n",
    "    global b\n",
    "    if random_number == '1':\n",
    "        if b[1] == \" \":\n",
    "            b = b[:1] + \"O\" + b[2:len(b)]\n",
    "            return b\n",
    "        else:\n",
    "            random_number()\n",
    "            return cpu_choice(random_number)\n",
    "    elif random_number == '2':\n",
    "        if b[5] == \" \":\n",
    "            b = b[:5] + \"O\" + b[6:len(b)]\n",
    "            return b\n",
    "        else:\n",
    "            random_number()\n",
    "            return cpu_choice(random_number)\n",
    "    elif random_number == '3':\n",
    "        if b[9] == \" \":\n",
    "            b = b[:9] + \"O\" + b[10:len(b)]\n",
    "            return b\n",
    "        else:\n",
    "            random_number()\n",
    "            return cpu_choice(random_number)\n",
    "    elif random_number == '4':\n",
    "        if b[12] == \" \":\n",
    "            b = b[:12] + \"O\" + b[13:len(b)]\n",
    "            return b\n",
    "        else:\n",
    "            random_number()\n",
    "            return cpu_choice(random_number)\n",
    "    elif random_number == '5':\n",
    "        if b[16] == \" \":\n",
    "            b = b[:16] + \"O\" + b[17:len(b)]\n",
    "            return b\n",
    "        else:\n",
    "            random_number()\n",
    "            return cpu_choice(random_number)\n",
    "    elif random_number == '6':\n",
    "        if b[20] == \" \":\n",
    "            b = b[:20] + \"O\" + b[21:len(b)]\n",
    "            return b\n",
    "        else:\n",
    "            random_number()\n",
    "            return cpu_choice(random_number)\n",
    "    elif random_number == '7':\n",
    "        if b[24] == \" \":\n",
    "            b = b[:24] + \"O\" + b[25:len(b)]\n",
    "            return b\n",
    "        else:\n",
    "            random_number()\n",
    "            return cpu_choice(random_number)\n",
    "    elif random_number == '8':\n",
    "        if b[28] == \" \":\n",
    "            b = b[:28] + \"O\" + b[29:len(b)]\n",
    "            return b\n",
    "        else:\n",
    "            random_number()\n",
    "            return cpu_choice(random_number)\n",
    "    elif random_number == '9':\n",
    "        if b[31] == \" \":\n",
    "            b = b[:31] + \"O\" + b[32:len(b)]\n",
    "            return b\n",
    "        else:\n",
    "            random_number()\n",
    "            return cpu_choice(random_number)"
   ]
  },
  {
   "cell_type": "code",
   "execution_count": 6,
   "metadata": {},
   "outputs": [
    {
     "name": "stdout",
     "output_type": "stream",
     "text": [
      "Welcome to Tic Tac Toe. Player is X, computer is O. This is a new game. Board numbers are as follows:\n",
      " 1 | 2 | 3 \n",
      " 4 | 5 | 6 \n",
      " 7 | 8 | 9\n"
     ]
    }
   ],
   "source": [
    "print(welcome_message)\n",
    "print (sample_board)"
   ]
  },
  {
   "cell_type": "code",
   "execution_count": 7,
   "metadata": {},
   "outputs": [
    {
     "name": "stdout",
     "output_type": "stream",
     "text": [
      "Enter your desired location [1-9]:1\n"
     ]
    }
   ],
   "source": [
    "user_choice = input('Enter your desired location [1-9]:')"
   ]
  },
  {
   "cell_type": "code",
   "execution_count": 8,
   "metadata": {},
   "outputs": [
    {
     "name": "stdout",
     "output_type": "stream",
     "text": [
      "You picked 1\n"
     ]
    }
   ],
   "source": [
    "print('You picked %s' % user_choice)\n",
    "user_input(user_choice)\n",
    "cpu_input(random_number())"
   ]
  },
  {
   "cell_type": "code",
   "execution_count": 9,
   "metadata": {},
   "outputs": [
    {
     "name": "stdout",
     "output_type": "stream",
     "text": [
      " X |   |   \n",
      "   |   |   \n",
      "   |   |  \n"
     ]
    }
   ],
   "source": [
    "print(b)"
   ]
  }
 ],
 "metadata": {
  "kernelspec": {
   "display_name": "Python 3",
   "language": "python",
   "name": "python3"
  },
  "language_info": {
   "codemirror_mode": {
    "name": "ipython",
    "version": 3
   },
   "file_extension": ".py",
   "mimetype": "text/x-python",
   "name": "python",
   "nbconvert_exporter": "python",
   "pygments_lexer": "ipython3",
   "version": "3.7.3"
  }
 },
 "nbformat": 4,
 "nbformat_minor": 2
}
